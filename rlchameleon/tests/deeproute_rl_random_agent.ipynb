{
 "cells": [
  {
   "cell_type": "code",
   "execution_count": 3,
   "metadata": {},
   "outputs": [],
   "source": [
    "import random\n",
    "import gym\n",
    "import gym_deeproute_stat\n",
    "import numpy as np\n",
    "\n",
    "import csv\n",
    "import argparse\n",
    "\n",
    "import logging \n",
    "mpl_logger = logging.getLogger('matplotlib') \n",
    "mpl_logger.setLevel(logging.WARNING) \n",
    "\n",
    "import matplotlib.pyplot as plt \n",
    "%matplotlib inline"
   ]
  },
  {
   "cell_type": "code",
   "execution_count": 1,
   "metadata": {},
   "outputs": [
    {
     "data": {
      "text/plain": [
       "'/home/controller/Music/deeproute-gym/tests'"
      ]
     },
     "execution_count": 1,
     "metadata": {},
     "output_type": "execute_result"
    }
   ],
   "source": [
    "pwd"
   ]
  },
  {
   "cell_type": "code",
   "execution_count": 4,
   "metadata": {},
   "outputs": [],
   "source": [
    "ENV_NAME = \"Deeproute-stat-v0\"\n"
   ]
  },
  {
   "cell_type": "code",
   "execution_count": 5,
   "metadata": {},
   "outputs": [],
   "source": [
    "class RandomAgent:\n",
    "\n",
    "    def __init__(self, observation_space, action_space):\n",
    "        self.action_space = action_space\n",
    " \n",
    "    def act(self, state):\n",
    "        return random.randrange(self.action_space)\n"
   ]
  },
  {
   "cell_type": "code",
   "execution_count": 6,
   "metadata": {},
   "outputs": [
    {
     "name": "stdout",
     "output_type": "stream",
     "text": [
      "Run: 1, score: 8\n",
      "Run: 2, score: 83\n",
      "Run: 3, score: 124\n"
     ]
    }
   ],
   "source": [
    "env = gym.make(ENV_NAME)\n",
    "\n",
    "observation_space = env.observation_space.shape[0]\n",
    "action_space = env.action_space.n\n",
    "agent = RandomAgent(observation_space, action_space)\n",
    "run = 0\n",
    "score = 0\n",
    "MAX_RUN = 3\n",
    "score_card = []\n",
    "while run < MAX_RUN:\n",
    "    run += 1\n",
    "    state = env.reset()\n",
    "    state = np.reshape(state, [1, observation_space])\n",
    "    step = 0\n",
    "    while True:\n",
    "        step += 1\n",
    "        \n",
    "        action = agent.act(state)\n",
    "        state_next, reward, terminal, info = env.step(action)\n",
    "        #reward = reward if not terminal else -reward\n",
    "        state_next = np.reshape(state_next, [1, observation_space])\n",
    "        score += reward\n",
    "        state = state_next\n",
    "        if terminal:\n",
    "            print (\"Run: \" + str(run)  + \", score: \" + str(score))\n",
    "            score_card.append((run, score))\n",
    "            break\n",
    "        "
   ]
  },
  {
   "cell_type": "code",
   "execution_count": 7,
   "metadata": {},
   "outputs": [
    {
     "data": {
      "image/png": "[encoded data removed]",
      "text/plain": [
       "<Figure size 432x288 with 1 Axes>"
      ]
     },
     "metadata": {},
     "output_type": "display_data"
    }
   ],
   "source": [
    "\n",
    "def draw_graph(data, title):\n",
    "    # x axis values \n",
    "    x =   [x[0] for x in data]\n",
    "    #print (x)\n",
    "    # corresponding y axis values \n",
    "    y =  [x[1] for x in data]\n",
    "    #print (y)\n",
    "\n",
    "    # plotting the points  \n",
    "    plt.plot(x, y) \n",
    "    \n",
    "\n",
    "\n",
    "    # naming the x axis \n",
    "    plt.xlabel('Runs') \n",
    "    # naming the y axis \n",
    "    plt.ylabel('Scores') \n",
    "\n",
    "    # giving a title to my graph \n",
    "    plt.title(title) \n",
    "\n",
    "    # show a legend on the plot \n",
    "    #plt.legend() \n",
    "\n",
    "    # function to show the plot \n",
    "    plt.show() \n",
    "\n",
    "draw_graph(score_card, 'Random_Agent_Trial')"
   ]
  },
  {
   "cell_type": "code",
   "execution_count": 8,
   "metadata": {},
   "outputs": [],
   "source": [
    "with open('random_score_card.csv', 'w') as f:\n",
    "    writer = csv.writer(f)\n",
    "    writer.writerows(score_card)\n"
   ]
  },
  {
   "cell_type": "code",
   "execution_count": 8,
   "metadata": {},
   "outputs": [],
   "source": [
    "env.cleanup()"
   ]
  }
 ],
 "metadata": {
  "kernelspec": {
   "display_name": "Python 3",
   "language": "python",
   "name": "python3"
  },
  "language_info": {
   "codemirror_mode": {
    "name": "ipython",
    "version": 3
   },
   "file_extension": ".py",
   "mimetype": "text/x-python",
   "name": "python",
   "nbconvert_exporter": "python",
   "pygments_lexer": "ipython3",
   "version": "3.6.9"
  }
 },
 "nbformat": 4,
 "nbformat_minor": 2
}
