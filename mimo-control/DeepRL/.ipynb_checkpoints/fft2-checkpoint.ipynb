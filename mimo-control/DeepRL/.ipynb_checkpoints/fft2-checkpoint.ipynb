{
 "cells": [
  {
   "cell_type": "markdown",
   "metadata": {},
   "source": [
    "# Math Model\n",
    "\n",
    "The following diagram illustrates a $3 \\times 3$ beam superposition process. Note that the center input beam is missing due to diffraction optical element configuration (zero order output suppressed).\n",
    "\n",
    "![fig](fig/3d_plot.png)\n",
    "\n",
    "For Fraunhofer diffraction,  matrix $d$ is the 2D fourier transform of grating, whose first $3\\times 3$ elements are measured as:\n",
    "\n",
    "$$\n",
    "d = \\begin{pmatrix}\n",
    "        e^{j\\theta_{00}} & e^{j\\theta_{01}} & e^{j\\theta_{02}} \\\\\n",
    "        e^{j\\theta_{10}} & 0\\cdot e^{j\\theta_{11}} & e^{j\\theta_{12}} \\\\\n",
    "        e^{j\\theta_{20}} & e^{j\\theta_{21}} & e^{j\\theta_{22}}\n",
    "    \\end{pmatrix}\n",
    "$$\n",
    "\n",
    "\n",
    "Define input beam complex matrix $B$ with unknown phases $\\delta_{xy}$:\n",
    "\n",
    "$$\n",
    "b = \\begin{pmatrix}\n",
    "        A_{00} e^{j\\delta_{00}} & A_{01} e^{j\\delta_{01}} & A_{02} e^{j\\delta_{02}} \\\\\n",
    "        A_{10} e^{j\\delta_{10}} & A_{11} e^{j\\delta_{11}} & A_{12} e^{j\\delta_{12}} \\\\\n",
    "        A_{20} e^{j\\delta_{20}} & A_{21} e^{j\\delta_{21}} & A_{22} e^{j\\delta_{22}}\n",
    "    \\end{pmatrix}\n",
    "$$\n",
    "\n",
    "where $x,y$ is location index.\n",
    "\n",
    "The diffraciton and beam superposition generates an output complex matrix $s$ which can be described as summation of each sub projection planes indexed by shifting locations $m,n$:\n",
    "\n",
    "$$\n",
    "    s(x,y) = \\sum_{m=-\\infty}^\\infty \\sum_{n=-\\infty}^\\infty b(x,y)d(x-m, y-n)\n",
    "$$\n",
    "\n",
    "In signal processing, this is the definition of 2D convolution. With a known $s(x,y)$, it is easy to use inverse 2D FFT to solve unknown beam information according to [convolution theorem](https://en.wikipedia.org/wiki/Convolution_theorem) in spatial frequency domain $u,v$.\n",
    "\n",
    "\\begin{align*}\n",
    "    s(x,y) &= b(x,y) \\ast d(x,y) \\\\\n",
    "    & \\Updownarrow \\\\\n",
    "    S(u, v) &= B(u, v) D(u, v) \\\\\n",
    "    B(u, v) &= \\frac{S(u,v)}{D(u,v)} \\\\\n",
    "    b(x,y) &= \\mathcal{F}^{-1}\\left( \\frac{S(u,v)}{D(u,v)} \\right)\n",
    "\\end{align*}\n",
    "\n",
    "where $B(u,v)$ and $D(u,v)$ are 2D FFT of $b(x,y)$ and $d(x,y)$ respectively.\n",
    "\n",
    "## Statement of problem\n",
    "\n",
    "It is a common problem to many applications such as X-ray crystallography, electron microscope, image processing, etc., where only the magnitude of diffraction pattern $\\lvert s(i,j) \\rvert$ is measurable, and one has to retrieve its phase in order to do the inverse FFT. This is a non-linear process called phase retrival, which is very active research field in Coherernt Diffraction Imaging (CDI).\n",
    "\n",
    "Using some constraints (known) on the input side, such as spatial non-zero locations (support) and positive real values, an iterative algorithm such as hybrid input-output (HIO) and its improvements are widely used. [1]\n",
    "\n",
    "[1]: https://arxiv.org/pdf/1402.7350.pdf"
   ]
  },
  {
   "cell_type": "markdown",
   "metadata": {},
   "source": [
    "   Note that the number of non-zero elements (first order):\n",
    "   \n",
    "   $$\n",
    "   \\begin{pmatrix}\n",
    "       1 & 2 & 3 & 2 & 1 \\\\\n",
    "       2 & 4 & 6 & 4 & 2 \\\\\n",
    "       3 & 6 & 9 & 6 & 3 \\\\\n",
    "       2 & 4 & 6 & 4 & 2 \\\\\n",
    "       1 & 2 & 3 & 2 & 1       \n",
    "   \\end{pmatrix}\n",
    "   $$"
   ]
  },
  {
   "cell_type": "markdown",
   "metadata": {},
   "source": [
    "---\n",
    "# Numerical simulation"
   ]
  },
  {
   "cell_type": "code",
   "execution_count": 2,
   "metadata": {},
   "outputs": [
    {
     "name": "stdout",
     "output_type": "stream",
     "text": [
      "Measured DOE phase [deg]:\n",
      "[[  0  90   0]\n",
      " [  0   0 -90]\n",
      " [180   0   0]]\n"
     ]
    }
   ],
   "source": [
    "%matplotlib inline\n",
    "import numpy as np\n",
    "import matplotlib.pyplot as plt\n",
    "\n",
    "from combine_model import sim8, doe_phs_deg\n",
    "\n",
    "%precision 2\n",
    "np.set_printoptions(suppress=True)\n",
    "\n",
    "def plot8(intensity, title=''):\n",
    "    fig, ax = plt.subplots()\n",
    "    c = ax.matshow(intensity, vmin=0, vmax=64, cmap=plt.get_cmap('gist_stern'))\n",
    "    ax.set_title(title)\n",
    "    fig.colorbar(c, ax=ax)\n",
    "    return fig\n",
    "\n",
    "print(\"Measured DOE phase [deg]:\")\n",
    "print(doe_phs_deg)"
   ]
  },
  {
   "cell_type": "code",
   "execution_count": null,
   "metadata": {},
   "outputs": [],
   "source": []
  },
  {
   "cell_type": "markdown",
   "metadata": {},
   "source": [
    "## Random condition"
   ]
  },
  {
   "cell_type": "code",
   "execution_count": 3,
   "metadata": {},
   "outputs": [
    {
     "name": "stdout",
     "output_type": "stream",
     "text": [
      "[[1.   2.91 3.53 2.51 1.  ]\n",
      " [2.29 3.89 1.54 1.86 3.9 ]\n",
      " [4.05 0.09 1.85 0.01 0.48]\n",
      " [0.03 1.42 2.52 0.46 2.83]\n",
      " [1.   2.92 3.51 2.53 1.  ]]\n"
     ]
    },
    {
     "data": {
      "image/png": "[encoded data removed]",
      "text/plain": [
       "<Figure size 432x288 with 2 Axes>"
      ]
     },
     "metadata": {
      "needs_background": "light"
     },
     "output_type": "display_data"
    }
   ],
   "source": [
    "beam_phs_deg = np.random.randn(*doe_phs_deg.shape) * 360\n",
    "\n",
    "intensity = sim8(beam_phs_deg)\n",
    "\n",
    "print(intensity)\n",
    "plot8(intensity, 'Random Condition');"
   ]
  },
  {
   "cell_type": "markdown",
   "metadata": {},
   "source": [
    "## Ideal combining condition\n",
    "\n",
    "It is simulated that when input beam phase is the 180 degree rotation and oppsosite of diffraction phase, the max coherent combining efficiency can be achieved."
   ]
  },
  {
   "cell_type": "code",
   "execution_count": 4,
   "metadata": {},
   "outputs": [
    {
     "name": "stdout",
     "output_type": "stream",
     "text": [
      "[[ 1.  2.  1.  2.  1.]\n",
      " [ 2.  0.  0.  0.  2.]\n",
      " [ 1.  0. 64.  0.  1.]\n",
      " [ 2.  0.  0.  0.  2.]\n",
      " [ 1.  2.  1.  2.  1.]]\n"
     ]
    },
    {
     "data": {
      "image/png": "[encoded data removed]",
      "text/plain": [
       "<Figure size 432x288 with 2 Axes>"
      ]
     },
     "metadata": {
      "needs_background": "light"
     },
     "output_type": "display_data"
    }
   ],
   "source": [
    "beam_phs_deg = np.rot90(np.rot90(-doe_phs_deg))\n",
    "\n",
    "intensity = sim8(beam_phs_deg)\n",
    "\n",
    "print(intensity)\n",
    "plot8(intensity, 'Ideal Condition');"
   ]
  },
  {
   "cell_type": "markdown",
   "metadata": {},
   "source": [
    "## Interactive plot"
   ]
  },
  {
   "cell_type": "code",
   "execution_count": 5,
   "metadata": {},
   "outputs": [
    {
     "data": {
      "image/png": "[encoded data removed]",
      "text/plain": [
       "<Figure size 288x288 with 1 Axes>"
      ]
     },
     "metadata": {
      "needs_background": "light"
     },
     "output_type": "display_data"
    },
    {
     "name": "stdout",
     "output_type": "stream",
     "text": [
      "center beam: 64.0\n"
     ]
    }
   ],
   "source": [
    "import ipywidgets as widgets\n",
    "\n",
    "init_beam_phs_deg = beam_phs_deg.ravel()\n",
    "xs = [widgets.IntSlider(\n",
    "        description=str(divmod(ix,3)), min=-180, max=180, step=15, value=init_beam_phs_deg[ix]\n",
    "        ) for ix in range(9)]\n",
    "\n",
    "ui = widgets.VBox(xs)\n",
    "phs_dict = {\n",
    "    'x0': xs[0], 'x1': xs[1], 'x2': xs[2], \n",
    "    'x3': xs[3], 'x4': xs[4], 'x5': xs[5], \n",
    "    'x6': xs[6], 'x7': xs[7], 'x8': xs[8]\n",
    "}\n",
    "\n",
    "def draw_intensity(x0, x1, x2, x3, x4, x5, x6, x7, x8):\n",
    "    beam_phs_deg = np.array([x0, x1, x2, x3, x4, x5, x6, x7, x8]).reshape(3,3)\n",
    "    intensity = sim8(beam_phs_deg)\n",
    "    plt.matshow(intensity, cmap=plt.get_cmap('gist_stern'), vmin=0, vmax=64)\n",
    "    plt.show()\n",
    "    print('center beam: {:.1f}'.format(intensity[2,2]))\n",
    "\n",
    "img = widgets.interactive_output(draw_intensity, phs_dict)\n",
    "widgets.HBox([ui, img]);"
   ]
  },
  {
   "cell_type": "code",
   "execution_count": null,
   "metadata": {},
   "outputs": [],
   "source": []
  }
 ],
 "metadata": {
  "authors": [
   {
    "name": "Qiang Du"
   }
  ],
  "kernelspec": {
   "display_name": "Python 3",
   "language": "python",
   "name": "python3"
  },
  "language_info": {
   "codemirror_mode": {
    "name": "ipython",
    "version": 3
   },
   "file_extension": ".py",
   "mimetype": "text/x-python",
   "name": "python",
   "nbconvert_exporter": "python",
   "pygments_lexer": "ipython3",
   "version": "3.7.4"
  },
  "title": "Modeling 3x3 Coherent Combining Physics"
 },
 "nbformat": 4,
 "nbformat_minor": 4
}
